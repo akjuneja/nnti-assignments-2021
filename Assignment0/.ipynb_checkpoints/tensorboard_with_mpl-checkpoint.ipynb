{
 "cells": [
  {
   "cell_type": "code",
   "execution_count": 1,
   "metadata": {
    "id": "7qm6bwNRFPyH"
   },
   "outputs": [],
   "source": [
    "%matplotlib inline"
   ]
  },
  {
   "cell_type": "markdown",
   "metadata": {
    "id": "lQfocQODFPyL"
   },
   "source": [
    "\n",
    "How to use TensorBoard with PyTorch and MPL\n",
    "=============================================\n",
    "TensorBoard is a visualization toolkit for machine learning experimentation. \n",
    "TensorBoard allows tracking and visualizing metrics such as loss and accuracy, \n",
    "visualizing the model graph, viewing histograms, displaying images and much more. \n",
    "In this tutorial we are going to cover TensorBoard installation, \n",
    "basic usage with PyTorch, and how to visualize data you logged in TensorBoard UI.\n",
    "\n",
    "Installation\n",
    "----------------------\n",
    "PyTorch should be installed to log models and metrics into TensorBoard log \n",
    "directory. And Matplotlib should be installed for visualization purposes.\n"
   ]
  },
  {
   "cell_type": "code",
   "execution_count": null,
   "metadata": {
    "id": "KTVkzsMUH-_z"
   },
   "outputs": [],
   "source": [
    "!conda install pytorch torchvision -c pytorch "
   ]
  },
  {
   "cell_type": "markdown",
   "metadata": {
    "id": "d9eExdVUIBBn"
   },
   "source": [
    "or pip"
   ]
  },
  {
   "cell_type": "code",
   "execution_count": null,
   "metadata": {
    "id": "gjduy8iyIEfB"
   },
   "outputs": [],
   "source": [
    "!pip install torch torchvision\n"
   ]
  },
  {
   "cell_type": "markdown",
   "metadata": {
    "id": "gpG9oq5MFPyM"
   },
   "source": [
    "Using TensorBoard in PyTorch\n",
    "-----\n",
    "\n",
    "Let’s now try using TensorBoard with PyTorch! Before logging anything, \n",
    "we need to create a ``SummaryWriter`` instance.\n",
    "\n",
    "\n"
   ]
  },
  {
   "cell_type": "code",
   "execution_count": 2,
   "metadata": {
    "id": "73HCdIXfFPyM"
   },
   "outputs": [],
   "source": [
    "import torch\n",
    "from torch.utils.tensorboard import SummaryWriter\n",
    "writer = SummaryWriter()"
   ]
  },
  {
   "cell_type": "markdown",
   "metadata": {
    "id": "sx1zl-ETFPyP"
   },
   "source": [
    "Writer will output to ``./runs/`` directory by default.\n",
    "\n",
    "\n"
   ]
  },
  {
   "cell_type": "markdown",
   "metadata": {
    "id": "CxHcAknfFPyP"
   },
   "source": [
    "Log scalars\n",
    "-----\n",
    "\n",
    "In machine learning, it’s important to understand key metrics such as \n",
    "loss and how they change during training. Scalar helps to save \n",
    "the loss value of each training step, or the accuracy after each epoch. \n",
    "\n",
    "To log a scalar value, use \n",
    "``add_scalar(tag, scalar_value, global_step=None, walltime=None)``. \n",
    "For example, lets create a simple linear regression training, and \n",
    "log loss value using ``add_scalar``\n",
    "\n",
    "\n"
   ]
  },
  {
   "cell_type": "code",
   "execution_count": 3,
   "metadata": {
    "id": "cBCs6Q2aFPyQ"
   },
   "outputs": [],
   "source": [
    "x = torch.arange(-5, 5, 0.1).view(-1, 1)\n",
    "y = -5 * x + 0.1 * torch.randn(x.size())\n",
    "\n",
    "model = torch.nn.Linear(1, 1)\n",
    "criterion = torch.nn.MSELoss()\n",
    "optimizer = torch.optim.SGD(model.parameters(), lr = 0.1)\n",
    "\n",
    "def train_model(iter):\n",
    "    for epoch in range(iter):\n",
    "        y1 = model(x)\n",
    "        loss = criterion(y1, y)\n",
    "        writer.add_scalar(\"Loss/train\", loss, epoch)\n",
    "        optimizer.zero_grad()\n",
    "        loss.backward()\n",
    "        optimizer.step()\n",
    "        \n",
    "train_model(10)\n",
    "writer.flush()"
   ]
  },
  {
   "cell_type": "markdown",
   "metadata": {
    "id": "rp9K2GqxFPyS"
   },
   "source": [
    "Call ``flush()`` method to make sure that all pending events \n",
    "have been written to disk.\n",
    "\n",
    "See [torch.utils.tensorboard tutorials](https://pytorch.org/docs/stable/tensorboard.html) to find more TensorBoard visualization types you can log.\n",
    "\n",
    "If you do not need the summary writer anymore, call ``close()`` method.\n",
    "\n",
    "\n"
   ]
  },
  {
   "cell_type": "code",
   "execution_count": 4,
   "metadata": {
    "id": "IRSe6eHcFPyT"
   },
   "outputs": [],
   "source": [
    "writer.close()"
   ]
  },
  {
   "cell_type": "markdown",
   "metadata": {
    "id": "lFKETpE2F2oE"
   },
   "source": [
    "Run TensorBoard\n",
    "-----\n",
    "\n",
    "Install TensorBoard through the command line to visualize data you logged\n",
    "\n",
    "\n"
   ]
  },
  {
   "cell_type": "code",
   "execution_count": null,
   "metadata": {
    "id": "oHbw_QnnFyON"
   },
   "outputs": [],
   "source": [
    "!pip install tensorboard"
   ]
  },
  {
   "cell_type": "markdown",
   "metadata": {
    "id": "pUoj8fC4FPyV"
   },
   "source": [
    "Now, start TensorBoard, specifying the root log directory you used above. \n",
    "Argument ``logdir`` points to directory where TensorBoard will look to find \n",
    "event files that it can display. TensorBoard will recursively walk \n",
    "the directory structure rooted at logdir, looking for .*tfevents.* files.\n",
    "\n",
    "\n",
    "\n",
    "\n",
    "\n",
    "\n"
   ]
  },
  {
   "cell_type": "code",
   "execution_count": null,
   "metadata": {
    "id": "P-qupXpbGH8k"
   },
   "outputs": [
    {
     "name": "stdout",
     "output_type": "stream",
     "text": [
      "TensorFlow installation not found - running with reduced feature set.\n",
      "\n",
      "NOTE: Using experimental fast data loading logic. To disable, pass\n",
      "    \"--load_fast=false\" and report issues on GitHub. More details:\n",
      "    https://github.com/tensorflow/tensorboard/issues/4784\n",
      "\n",
      "Serving TensorBoard on localhost; to expose to the network, use a proxy or pass --bind_all\n",
      "TensorBoard 2.6.0 at http://localhost:6006/ (Press CTRL+C to quit)\n"
     ]
    }
   ],
   "source": [
    "!tensorboard --logdir=runs"
   ]
  },
  {
   "cell_type": "markdown",
   "metadata": {
    "id": "BDH-98FkGIvs"
   },
   "source": [
    "Go to the URL it provides OR to [http://localhost:6006/](http://localhost:6006/)\n",
    "\n",
    "\n",
    "\n",
    "<img src=\"https://raw.githubusercontent.com/pytorch/tutorials/master/_static/img/thumbnails/tensorboard_scalars.png\" width=\"700\"/>\n",
    "\n",
    "\n",
    "This dashboard shows how the loss and accuracy change with every epoch. \n",
    "You can use it to also track training speed, learning rate, and other \n",
    "scalar values. It’s helpful to compare these metrics across different \n",
    "training runs to improve your model.\n"
   ]
  },
  {
   "cell_type": "markdown",
   "metadata": {
    "id": "fUt3jwrIHCks"
   },
   "source": [
    "Share TensorBoard dashboards\n",
    "-----\n",
    "\n",
    "[TensorBoard.dev](https://tensorboard.dev/) lets you upload and share \n",
    "your ML experiment results with anyone. Use TensorBoard.dev to host, \n",
    "track, and share your TensorBoard dashboards.\n",
    "\n",
    "\n",
    "<img src=\"https://raw.githubusercontent.com/pytorch/tutorials/master/_static/img/thumbnails/tensorboard_dev.png\" width=\"700\"/>\n",
    "\n",
    "\n",
    "\n",
    "Install the latest version of TensorBoard to use the uploader."
   ]
  },
  {
   "cell_type": "code",
   "execution_count": null,
   "metadata": {
    "id": "Fn0xaQgJHEjr"
   },
   "outputs": [],
   "source": [
    "!pip install tensorboard --upgrade"
   ]
  },
  {
   "cell_type": "markdown",
   "metadata": {
    "id": "X820bKjPHMj3"
   },
   "source": [
    "Use a simple command to upload and share your TensorBoard.\n"
   ]
  },
  {
   "cell_type": "code",
   "execution_count": null,
   "metadata": {
    "id": "vS2sG5uczmpd"
   },
   "outputs": [],
   "source": [
    "!tensorboard dev upload --logdir runs \\\n",
    "--name \"My latest experiment\" \\\n",
    "--description \"Simple comparison of several hyperparameters\""
   ]
  },
  {
   "cell_type": "markdown",
   "metadata": {
    "id": "P1Far8AiFPyV"
   },
   "source": [
    "\n",
    "For help, run ``$ tensorboard dev --help``.\n",
    "\n",
    "**Note:** Uploaded TensorBoards are public and visible to everyone. \n",
    "Do not upload sensitive data.\n",
    "\n",
    "View your TensorBoard live at URL provided in your terminal. \n",
    "E.g. [https://tensorboard.dev/experiment/AdYd1TgeTlaLWXx6I8JUbA](https://tensorboard.dev/experiment/AdYd1TgeTlaLWXx6I8JUbA)\n",
    "\n",
    "\n",
    "**Note:** TensorBoard.dev currently supports only scalars dashboard.\n",
    "\n"
   ]
  },
  {
   "cell_type": "markdown",
   "metadata": {
    "id": "_k2RbNizFPyW"
   },
   "source": [
    "Learn More\n",
    "----------------------------\n",
    "\n",
    "-  [torch.utils.tensorboard](https://pytorch.org/docs/stable/tensorboard.htm) Documentation\n",
    "-  [Visualizing models, data, and training with TensorBoar](https://pytorch.org/tutorials/intermediate/tensorboard_tutorial.html) Tutorial\n",
    "\n",
    "\n"
   ]
  }
 ],
 "metadata": {
  "colab": {
   "name": "tensorboard_with_pytorch.ipynb",
   "provenance": []
  },
  "kernelspec": {
   "display_name": "Python 3 (ipykernel)",
   "language": "python",
   "name": "python3"
  },
  "language_info": {
   "codemirror_mode": {
    "name": "ipython",
    "version": 3
   },
   "file_extension": ".py",
   "mimetype": "text/x-python",
   "name": "python",
   "nbconvert_exporter": "python",
   "pygments_lexer": "ipython3",
   "version": "3.8.12"
  }
 },
 "nbformat": 4,
 "nbformat_minor": 4
}
